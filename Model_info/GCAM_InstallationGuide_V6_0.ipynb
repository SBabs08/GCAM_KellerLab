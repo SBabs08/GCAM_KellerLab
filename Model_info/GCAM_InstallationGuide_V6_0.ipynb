{
 "cells": [
  {
   "attachments": {},
   "cell_type": "markdown",
   "id": "f3fcba0a",
   "metadata": {},
   "source": [
    "## GCAM installation on Keller-Lab Jumbo (Linux Based server hosted by Thayer)"
   ]
  },
  {
   "cell_type": "markdown",
   "id": "a5b3ba16",
   "metadata": {},
   "source": [
    "This documentation includes the steps and lines needed to install and compile  the binary GCAM source code on the Keller-lab Jumbo, this can be edited for installation on any Linux based environment.\n",
    "Additional information can be found at : https://jgcri.github.io/gcam-doc/gcam-build.html \n"
   ]
  },
  {
   "cell_type": "code",
   "execution_count": null,
   "id": "20d70a7d",
   "metadata": {},
   "outputs": [],
   "source": [
    "#download GCAM V6.0 form JGCRI github\n",
    "cd =~/jumbo/keller-lab/models/GCAM  #working directory – make new dir if you do not already specified\n",
    "wget https://github.com/JGCRI/gcam-core/archive/refs/tags/gcam-v6.0.zip\n",
    "unzip gcam-v6.0.zip\n",
    "\n",
    "module load gnu/9.1.0\n"
   ]
  },
  {
   "cell_type": "markdown",
   "id": "a21db685",
   "metadata": {},
   "source": [
    "Build Boost - Boost includes many general purpose utilities for the C++ language and helps GCAM compile correctly across most platforms."
   ]
  },
  {
   "cell_type": "code",
   "execution_count": null,
   "id": "9b4d77a8",
   "metadata": {},
   "outputs": [],
   "source": [
    "mkdir build\n",
    "mkdir libs\n",
    "cd build\n",
    "wget https://boostorg.jfrog.io/artifactory/main/release/1.78.0/source/boost_1_78_0.tar.bz2\n",
    "tar --bzip2 -xf ./boost_1_78_0.tar.bz2\n",
    "mv boost_1_78_0 ../libs/boost-lib\n",
    "cd ../libs/boost-lib\n",
    "./bootstrap.sh --with-libraries=system,filesystem --prefix=~/jumbo/keller-lab/models/GCAM/libs/boost-lib/stage/lib\n",
    "./b2 stage\n"
   ]
  },
  {
   "cell_type": "markdown",
   "id": "350e3cd7",
   "metadata": {},
   "source": [
    "Build Eigen"
   ]
  },
  {
   "cell_type": "code",
   "execution_count": null,
   "id": "ea39e527",
   "metadata": {},
   "outputs": [],
   "source": [
    "cd ~/jumbo/keller-lab/models/GCAM/build\n",
    "wget https://gitlab.com/libeigen/eigen/-/archive/master/eigen-master.tar.gz\n",
    "tar -zxf eigen-master.tar.gz\n",
    "mv eigen-master ../libs/eigen\n"
   ]
  },
  {
   "cell_type": "markdown",
   "id": "65b23cd7",
   "metadata": {},
   "source": [
    "Build Hector - Hector is the simple climate developed at JGCRI. It is available from the hector project’s Github repository."
   ]
  },
  {
   "cell_type": "code",
   "execution_count": null,
   "id": "c6bf172c",
   "metadata": {},
   "outputs": [],
   "source": [
    "cd ~/jumbo/keller-lab/models/GCAM/gcam-core-gcam-v6.0/cvs/objects/climate/source\n",
    "wget https://github.com/JGCRI/hector/archive/gcam-integration.zip\n",
    "unzip gcam-integration.zip\n",
    "mv hector-gcam-integration/* hector/\n"
   ]
  },
  {
   "cell_type": "markdown",
   "id": "066dd430",
   "metadata": {},
   "source": [
    "Building with Makefile\n",
    "\n",
    "*Note you need to have jars (see requirements folder) unzipped in /jumbo/keller-lab/models/GCAM/libs/"
   ]
  },
  {
   "cell_type": "code",
   "execution_count": null,
   "id": "a6c7d0a9",
   "metadata": {},
   "outputs": [],
   "source": [
    "cd ~/jumbo/keller-lab/models/GCAM\n",
    "export CXX=\"g++\" \n",
    "export GCAM_HOME=/jumbo/keller-lab/models/GCAM\n",
    "export GCAMLIB_HOME=${GCAM_HOME}/libs \n",
    "export BOOST_INCLUDE=${GCAMLIB_HOME}/boost-lib/\n",
    "export BOOST_LIB=${GCAMLIB_HOME}/boost-lib/stage/lib/\n",
    "export JAVA_INCLUDE=/usr/lib/jvm/java-1.11.0-openjdk-amd64/include\n",
    "export JAVA_LIB=/usr/lib/jvm/java-11-openjdk-amd64/lib/server/\n",
    "export JARS_LIB=${GCAMLIB_HOME}/jars/* \n",
    "export EIGEN_INCLUDE=${GCAMLIB_HOME}/eigen\n",
    "export USE_GCAM_PARALLEL=0"
   ]
  },
  {
   "cell_type": "markdown",
   "id": "74780728",
   "metadata": {},
   "source": [
    " Compiling GCAM Source Code"
   ]
  },
  {
   "cell_type": "code",
   "execution_count": null,
   "id": "34ad9636",
   "metadata": {},
   "outputs": [],
   "source": [
    "cd /jumbo/keller-lab/models/GCAM/gcam-core-gcam-v6.0/cvs/objects/build/linux/\n",
    "make clean\n",
    "make gcam -j 8 \t#Note the -j 8 simply to compile multiple sources files at a time (set as appropriate for your system configuration)\n",
    "#Once complete an executable will be copied to /jumbo/keller-lab/models/GCAM/gcam-core-gcam v6.0/exe"
   ]
  },
  {
   "cell_type": "code",
   "execution_count": null,
   "id": "189ae9ee",
   "metadata": {},
   "outputs": [],
   "source": [
    "#In R (in terminal)\n",
    "R\n",
    "install.packages(“devtools”) \n",
    "library(tidyr)\n",
    "library(BH)\n",
    "library(readr)\n",
    "#This takes a about 5 -1 10 minutes to complete\n",
    "#To exit R (⌘ + Q (OS X) or ctrl + Q (PC).\n"
   ]
  },
  {
   "cell_type": "code",
   "execution_count": null,
   "id": "130b5c96",
   "metadata": {},
   "outputs": [],
   "source": [
    "cd /jumbo/keller-lab/models/GCAM/gcam-core-gcam-v6.0\n",
    "make xml"
   ]
  },
  {
   "cell_type": "markdown",
   "id": "b3c45dd4",
   "metadata": {},
   "source": [
    "GCAM reference scenario can now be run from that directory with the following"
   ]
  },
  {
   "cell_type": "code",
   "execution_count": null,
   "id": "ef8dfb0f",
   "metadata": {},
   "outputs": [],
   "source": [
    "/gcam.exe -C configuration_ref.xml"
   ]
  }
 ],
 "metadata": {
  "kernelspec": {
   "display_name": "Python 3 (ipykernel)",
   "language": "python",
   "name": "python3"
  },
  "language_info": {
   "codemirror_mode": {
    "name": "ipython",
    "version": 3
   },
   "file_extension": ".py",
   "mimetype": "text/x-python",
   "name": "python",
   "nbconvert_exporter": "python",
   "pygments_lexer": "ipython3",
   "version": "3.9.13"
  },
  "toc": {
   "base_numbering": 1,
   "nav_menu": {},
   "number_sections": true,
   "sideBar": true,
   "skip_h1_title": false,
   "title_cell": "Table of Contents",
   "title_sidebar": "Contents",
   "toc_cell": false,
   "toc_position": {},
   "toc_section_display": true,
   "toc_window_display": false
  }
 },
 "nbformat": 4,
 "nbformat_minor": 5
}
